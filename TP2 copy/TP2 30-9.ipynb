{
 "cells": [
  {
   "cell_type": "markdown",
   "metadata": {},
   "source": [
    "# Ciencia de datos (CC408) - Primavera 2024\n",
    "\n",
    "## Trabajo Práctico 1 - Parte 2"
   ]
  },
  {
   "cell_type": "markdown",
   "metadata": {},
   "source": [
    "### Reglas de formato y presentation\n",
    "- El trabajo debe tener una extensión máxima de 8 páginas (no se permite Apéndice). Se espera una buena redacción en la resolución del práctico.\n",
    "- El informe debe ser entregado en formato PDF, con los gráficos e imágenes en este mismo archivo.\n",
    "- Entregar el código con los comandos utilizados, identificando claramente a qué inciso corresponde cada comando."
   ]
  },
  {
   "cell_type": "markdown",
   "metadata": {
    "id": "ZEjGaa4U-c9g"
   },
   "source": [
    "### Fecha de entrega:\n",
    "Miércoles 2 de octubre a las 23:59 hs."
   ]
  },
  {
   "cell_type": "markdown",
   "metadata": {
    "id": "N9TU2y7E-c9h"
   },
   "source": [
    "### Modalidad de entrega\n",
    "- Al finalizar el trabajo práctico deben hacer un último <i>commit</i> en su repositorio de GitHub llamado “Entrega final del tp”. \n",
    "- Asegurense de haber creado una carpeta llamada TP1. Este Jupyter Notebook y el correspondiente al TP1 - Parte 2 deben estar dentro de esa carpeta.\n",
    "- También deben enviar el link de su repositorio -para que pueda ser clonado y corregido- al siguiente email: ispiousas@udesa.edu.ar\n",
    "- La última versión en el repositorio es la que será evaluada. Por lo que es importante que: \n",
    "    - No envien el correo hasta no haber terminado y estar seguros de que han hecho el <i>commit y push</i> a la versión final que quieren entregar. Debido a que se pueden tomar hasta 3 días de extensión a lo largo del curso, no se corregirán sus tareas hasta no recibir el correo.\n",
    "    - No hagan nuevos <i>push</i> despues de haber entregado su versión final. Esto generaría confusión acerca de que versión es la que quieren que se les corrija. "
   ]
  },
  {
   "cell_type": "markdown",
   "metadata": {},
   "source": [
    "### Parte I: Limpieza de la base"
   ]
  },
  {
   "cell_type": "markdown",
   "metadata": {
    "id": "ZXbrPraa-c9i"
   },
   "source": [
    "#### Ejercicio 1\n",
    "La base de datos provista contiene información sobre oferentes de Airbnb en la ciudad de Nueva York. Realicen una limpieza de la base.\n",
    "- Tengan en cuenta si hay valores duplicados y eliminénlos.\n",
    "- Eliminen las columnas que no tienen información de interés.\n",
    "- (Opcional) Luego de leer el artículo __[Missing-data imputation](https://bookdown.org/mike/data_analysis/imputation-missing-data.html##imputation-missing-data)__ (__[Missing-data imputation articulo alternativo](http://www.stat.columbia.edu/~gelman/arm/missing.pdf)__), decidan qué hacer con los missing values e implementen su decision. Justifiquen su eleccion. Pueden usar informacion del paper mencionado o de otras fuentes (citenlas si las usan) para explicar los problemas que pueden surgir por su estrategia elegida.\n",
    "- Si hay observaciones con *outliers* o valores que no tienen sentido, tomen una decision. Expliquen las decisiones tomadas.\n",
    "- Transformen las variables **‘neighbourhood_group’** y **‘room_type’** a variables numericas.\n",
    "- Con la ayuda de los comandos <code>groupby</code> y <code>join</code> o <code>merge</code>, creen una columna que tenga la cantidad de oferentes por “Neighbourhood group”. Llamen a esa nueva columna <code>offer group</code>"
   ]
  },
  {
   "cell_type": "code",
   "execution_count": null,
   "metadata": {},
   "outputs": [
    {
     "ename": "",
     "evalue": "",
     "output_type": "error",
     "traceback": [
      "\u001b[1;31mFailed to start the Kernel. \n",
      "\u001b[1;31mEPERM: operation not permitted, scandir '/Users/analiaweibel/Documents/GitHub/CC408--T2-9-/TP2 copy'. \n",
      "\u001b[1;31mView Jupyter <a href='command:jupyter.viewOutput'>log</a> for further details."
     ]
    }
   ],
   "source": [
    "import pandas as pd\n",
    "import seaborn as sns\n",
    "import matplotlib.pyplot as plt\n",
    "\n",
    "#Abrir archivo\n",
    "df = pd.read_csv('Base Airbnb NY.csv')\n",
    "df.head()\n",
    "len(df)\n",
    "df.describe()\n",
    "\n",
    "# Elimino duplicados\n",
    "data_sin_duplicados = data.drop_duplicates()\n",
    "# Mostrar duplicados\n",
    "len(data_sin_duplicados)\n",
    "df_sin_duplicados.head() # data frame sin duplicados\n",
    "df_sin_duplicados.head() #veo filas de df\n",
    "len(df_sin_duplicados)\n",
    "\n",
    "# Elimino columnas que no me parecen de interes.\n",
    "columnas_a_eliminar = ['name', 'host_name', 'id', 'host_id','neigbourhood_group','last_review'] \n",
    "data_sin_columnas = data_sin_duplicados.drop(columns=columnas_a_eliminar) \n",
    "\n",
    "#Outliers\n",
    "#Defino columnas cuantis para analizar outliers\n",
    "columnas_cuantitativas = ['latitude', 'longitude', 'price', \n",
    "                          'minimum_nights', 'number_of_reviews', 'reviews_per_month',\n",
    "                          'calculated_host_listings_count', 'availability_365']\n",
    "\n",
    "# Calcular mediana y IQR para cada columna\n",
    "Q1 = data_dummies[columnas_cuantitativas].quantile(0.25)\n",
    "Q3 = data_dummies[columnas_cuantitativas].quantile(0.75)\n",
    "IQR = Q3 - Q1\n",
    "limite_inferior = Q1 - 1.5 * IQR #limites\n",
    "limite_superior = Q3 + 1.5 * IQR\n",
    "\n",
    "# Filtrar datos sin outliers\n",
    "data_sin_outliers = data_dummies.copy()\n",
    "for col in columnas_cuantitativas:\n",
    "    data_sin_outliers = data_sin_outliers[(data_sin_outliers[col] >= limite_inferior[col]) & \n",
    "                                          (data_sin_outliers[col] <= limite_superior[col])]\n",
    "\n",
    "# 6. Visualizar los datos con boxplots sin outliers\n",
    "plt.figure(figsize=(16, 10))  # Tamaño del gráfico\n",
    "for i, col in enumerate(columnas_cuantitativas, 1):\n",
    "    plt.subplot(4, 2, i)  # Crear subplots de 4 filas y 2 columnas\n",
    "    sns.boxplot(data=data_sin_outliers, x=col, palette=\"Set2\", fliersize=5, linewidth=2)\n",
    "    plt.title(f\"Boxplot de {col} (sin outliers)\", fontsize=14)\n",
    "    plt.xlabel(col, fontsize=12)\n",
    "    plt.grid(True, linestyle='--', alpha=0.7)\n",
    "plt.tight_layout()  # Ajustar para que los subplots no se superpongan\n",
    "plt.show()\n",
    "\n",
    "plt.figure(figsize=(12, 8))\n",
    "sns.boxplot(data_sin_outliers_encoded[columnas_cuantitativas], orient=\"h\", palette=\"Set2\")\n",
    "plt.title(\"Boxplot de columnas cuantitativas con outliers\", fontsize=16)\n",
    "plt.xlabel(\"Valores\")\n",
    "plt.ylabel(\"Columnas cuantitativas\")\n",
    "plt.tight_layout()  # Ajustar el espacio entre subplots\n",
    "plt.show()\n",
    "\n",
    "# Transformar las variables 'neighbourhood_group' y 'room_type' a variables numéricas\n",
    "data_dummies = pd.get_dummies(data_sin_columnas, columns=['neighbourhood_group', 'room_type'], drop_first=True)\n",
    "print(data_dummies.head()) # Para visualizar las primeras filas del DataFrame con las columnas numéricas\n",
    "offer_count = data.groupby('neighbourhood_group').size().reset_index(name='offer_group')\n",
    "data_con_offer_group = pd.merge(data_sin_columnas, offer_count, on='neighbourhood_group')\n",
    "print(data_con_offer_group[['neighbourhood_group', 'offer_group']].head())\n",
    "\n",
    "# Guardar el DataFrame final con las transformaciones\n",
    "data_sin_outliers.to_csv('Base_Airbnb_NY_Transformada.csv', index=False)"
   ]
  },
  {
   "cell_type": "markdown",
   "metadata": {},
   "source": [
    "### Parte II: Graficos y visualizaciones"
   ]
  },
  {
   "cell_type": "markdown",
   "metadata": {},
   "source": [
    "#### Ejercicio 2\n",
    "Una vez hecha la limpieza, realicen una matriz de correlación con las siguientes variables:**‘neighbourhood group’, ‘latitude’, ‘longitude’, ‘room type’,‘price’, ‘minimum nights’, ‘number of reviews’, ‘reviews per month’,‘calculated host listings count’, ‘availability 365’.** Comenten los resultados. Utilicen alguno de los comandos disponibles en este link para graficar la matriz de correlacion.\n",
    "\n",
    "*Nota:* consideren cómo es conveniente incluir las variables que originalmente eran categóricas para poder interpretar mejor la matriz de correlación."
   ]
  },
  {
   "cell_type": "code",
   "execution_count": null,
   "metadata": {},
   "outputs": [
    {
     "ename": "",
     "evalue": "",
     "output_type": "error",
     "traceback": [
      "\u001b[1;31mFailed to start the Kernel. \n",
      "\u001b[1;31mEPERM: operation not permitted, scandir '/Users/analiaweibel/Documents/GitHub/CC408--T2-9-/TP2 copy'. \n",
      "\u001b[1;31mView Jupyter <a href='command:jupyter.viewOutput'>log</a> for further details."
     ]
    }
   ],
   "source": [
    "#Resolver acá \n",
    "#Seleccionamos las variables para la matriz de correlación\n",
    "variables = ['latitude', 'longitude', 'price', 'minimum_nights', \n",
    "             'number_of_reviews', 'reviews_per_month', \n",
    "             'calculated_host_listings_count', 'availability_365'] + list(data_dummies.columns[data_dummies.columns.str.startswith('neighbourhood_group_')]) + list(data_dummies.columns[data_dummies.columns.str.startswith('room_type_')])\n",
    "\n",
    "# Calculamos la matriz de correlación\n",
    "matriz_correlacion = data_dummies[variables].corr()\n",
    "\n",
    "# ----------------------\n",
    "# matriz de correlación:\n",
    "plt.figure(figsize=(14, 10))\n",
    "sns.heatmap(matriz_correlacion, annot=True, fmt=\".2f\", cmap='coolwarm', square=True, cbar_kws={\"shrink\": .8})\n",
    "plt.title('Matriz de Correlación de Variables', fontsize=16)\n",
    "plt.xticks(rotation=45)\n",
    "plt.yticks(rotation=0)\n",
    "plt.tight_layout()\n",
    "plt.show()"
   ]
  },
  {
   "cell_type": "markdown",
   "metadata": {},
   "source": [
    "#### Ejercicio 3\n",
    "Respondan las siguientes preguntas: ¿Cuál es la proporción de oferentes por “Neighbourhood group”? ¿Y por tipo de habitación? Además, realicen gráficos para mostrar estas composiciones y comenten los resultados."
   ]
  },
  {
   "cell_type": "code",
   "execution_count": null,
   "metadata": {},
   "outputs": [
    {
     "ename": "",
     "evalue": "",
     "output_type": "error",
     "traceback": [
      "\u001b[1;31mFailed to start the Kernel. \n",
      "\u001b[1;31mEPERM: operation not permitted, scandir '/Users/analiaweibel/Documents/GitHub/CC408--T2-9-/TP2 copy'. \n",
      "\u001b[1;31mView Jupyter <a href='command:jupyter.viewOutput'>log</a> for further details."
     ]
    }
   ],
   "source": [
    "# Resolver acá\n",
    "# Preprocesamiento\n",
    "data_sin_duplicados = data.drop_duplicates()\n",
    "columnas_a_eliminar = ['name', 'host_name', 'id', 'host_id'] \n",
    "data_sin_columnas = data_sin_duplicados.drop(columns=columnas_a_eliminar)\n",
    "\n",
    "# Transformar las variables 'neighbourhood_group' y 'room_type' a variables numéricas\n",
    "data_dummies = pd.get_dummies(data_sin_columnas, columns=['neighbourhood_group', 'room_type'], drop_first=True)\n",
    "\n",
    "# Calcular la proporción de oferentes por 'Neighbourhood group'\n",
    "proporcion_neighbourhood = data['neighbourhood_group'].value_counts(normalize=True)\n",
    "\n",
    "# Calcular la proporción de oferentes por 'room type'\n",
    "proporcion_room_type = data['room_type'].value_counts(normalize=True)\n",
    "\n",
    "# Graficar proporciones por 'Neighbourhood group'\n",
    "plt.figure(figsize=(12, 6))\n",
    "sns.barplot(x=proporcion_neighbourhood.index, y=proporcion_neighbourhood.values, palette='viridis')\n",
    "plt.title('Proporción de Oferentes por Neighbourhood Group', fontsize=16)\n",
    "plt.xlabel('Neighbourhood Group', fontsize=14)\n",
    "plt.ylabel('Proporción', fontsize=14)\n",
    "plt.xticks(rotation=45)\n",
    "plt.grid(axis='y', linestyle='--', alpha=0.7)\n",
    "plt.show()\n",
    "\n",
    "# Graficar proporciones por 'room type'\n",
    "plt.figure(figsize=(8, 6))\n",
    "sns.barplot(x=proporcion_room_type.index, y=proporcion_room_type.values, palette='magma')\n",
    "plt.title('Proporción de Oferentes por Tipo de Habitación', fontsize=16)\n",
    "plt.xlabel('Tipo de Habitación', fontsize=14)\n",
    "plt.ylabel('Proporción', fontsize=14)\n",
    "plt.grid(axis='y', linestyle='--', alpha=0.7)\n",
    "plt.show()\n",
    "\n",
    "# Mostrar proporciones\n",
    "print(\"Proporción de oferentes por 'Neighbourhood group':\")\n",
    "print(proporcion_neighbourhood)\n",
    "print(\"\\nProporción de oferentes por 'Room type':\")\n",
    "print(proporcion_room_type)"
   ]
  },
  {
   "cell_type": "markdown",
   "metadata": {},
   "source": [
    "#### Ejercicio 4\n",
    "Realicen un histograma de los precios de los alojamientos. Comenten el gráfico obtenido. Además, respondan las siguientes preguntas: ¿cuál es el precio mínimo, máximo y promedio? ¿Cuál es la media de precio por “Neighbourhood group” y por tipo de habitación? "
   ]
  },
  {
   "cell_type": "code",
   "execution_count": 28,
   "metadata": {},
   "outputs": [
    {
     "data": {
      "image/png": "[encoded data removed]",
      "text/plain": [
       "<Figure size 1200x600 with 1 Axes>"
      ]
     },
     "metadata": {},
     "output_type": "display_data"
    },
    {
     "name": "stdout",
     "output_type": "stream",
     "text": [
      "Precio mínimo: 0.0\n",
      "Precio máximo: 10000.0\n",
      "Precio promedio: 152.73213993453356\n",
      "\n",
      "Media de precio por neighbourhood group:\n",
      "neighbourhood_group\n",
      "Bronx             87.464646\n",
      "Brooklyn         124.391451\n",
      "Manhattan        196.878654\n",
      "Queens            99.536900\n",
      "Staten Island    114.812332\n",
      "Name: price, dtype: float64\n",
      "\n",
      "Media de precio por tipo de habitación:\n",
      "room_type\n",
      "Entire home/apt    211.799677\n",
      "Private room        89.784908\n",
      "Shared room         70.127586\n",
      "Name: price, dtype: float64\n"
     ]
    }
   ],
   "source": [
    "# Resolver acá Preprocesamiento\n",
    "data_sin_duplicados = data.drop_duplicates()\n",
    "columnas_a_eliminar = ['name', 'host_name', 'id', 'host_id'] \n",
    "data_sin_columnas = data_sin_duplicados.drop(columns=columnas_a_eliminar)\n",
    "\n",
    "# Cálculo de estadísticas de precios\n",
    "precio_minimo = data_sin_columnas['price'].min()\n",
    "precio_maximo = data_sin_columnas['price'].max()\n",
    "precio_promedio = data_sin_columnas['price'].mean()\n",
    "\n",
    "# Media de precio por neighbourhood_group\n",
    "media_precio_neighbourhood = data_sin_columnas.groupby('neighbourhood_group')['price'].mean()\n",
    "\n",
    "# Media de precio por tipo de habitación\n",
    "media_precio_tipo_habitacion = data_sin_columnas.groupby('room_type')['price'].mean()\n",
    "\n",
    "# ----------------------\n",
    "# Crear un histograma de los precios\n",
    "plt.figure(figsize=(12, 6))\n",
    "sns.histplot(data_sin_columnas['price'], bins=30, kde=True, color='blue')\n",
    "plt.title('Histograma de Precios de Alojamientos', fontsize=16)\n",
    "plt.xlabel('Precio', fontsize=14)\n",
    "plt.ylabel('Frecuencia', fontsize=14)\n",
    "plt.grid(axis='y', linestyle='--', alpha=0.7)\n",
    "plt.show()\n",
    "\n",
    "# Mostrar resultados\n",
    "print(f\"Precio mínimo: {precio_minimo}\")\n",
    "print(f\"Precio máximo: {precio_maximo}\")\n",
    "print(f\"Precio promedio: {precio_promedio}\")\n",
    "print(\"\\nMedia de precio por neighbourhood group:\")\n",
    "print(media_precio_neighbourhood)\n",
    "print(\"\\nMedia de precio por tipo de habitación:\")\n",
    "print(media_precio_tipo_habitacion)\n"
   ]
  },
  {
   "cell_type": "markdown",
   "metadata": {},
   "source": [
    "#### Ejercicio 5\n",
    "Realicen dos scatter plots con dos variables de interés en cada uno. Comenten."
   ]
  },
  {
   "cell_type": "code",
   "execution_count": null,
   "metadata": {},
   "outputs": [
    {
     "ename": "",
     "evalue": "",
     "output_type": "error",
     "traceback": [
      "\u001b[1;31mFailed to start the Kernel. \n",
      "\u001b[1;31mEPERM: operation not permitted, scandir '/Users/analiaweibel/Documents/GitHub/CC408--T2-9-/TP2 copy'. \n",
      "\u001b[1;31mView Jupyter <a href='command:jupyter.viewOutput'>log</a> for further details."
     ]
    }
   ],
   "source": [
    "# Resolver acá\n",
    "#Crear dos scatter plots\n",
    "plt.figure(figsize=(16, 6))  # Aumentar el tamaño total de la figura\n",
    "\n",
    "# Primer scatter plot: Precio vs Mínimo de noches\n",
    "plt.subplot(1, 2, 1)  # 1 fila, 2 columnas, primer gráfico\n",
    "sns.scatterplot(data=data_sin_columnas, x='minimum_nights', y='price', \n",
    "                alpha=0.7, s=6, color='blue')  \n",
    "plt.title(\"Precio vs Mínimo de Noches\", fontsize=16)\n",
    "plt.xlabel(\"Número Mínimo de Noches\", fontsize=14)\n",
    "plt.ylabel(\"Precio\", fontsize=14)\n",
    "plt.xlim(0, 30)  # Limitar el eje x para mejor visualización\n",
    "plt.ylim(0, data_sin_columnas['price'].max() * 1.1)  # Limitar el eje y a un 10% más que el máximo\n",
    "\n",
    "# Segundo scatter plot: Número de Reseñas vs Precio\n",
    "plt.subplot(1, 2, 2)  # 1 fila, 2 columnas, segundo gráfico\n",
    "sns.scatterplot(data=data_sin_columnas, x='number_of_reviews', y='price', \n",
    "                alpha=0.7, s=6, color='orange')  # s: tamaño de los puntos\n",
    "plt.title(\"Precio vs Número de Reseñas\", fontsize=16)\n",
    "plt.xlabel(\"Número de Reseñas\", fontsize=14)\n",
    "plt.ylabel(\"Precio\", fontsize=14)\n",
    "plt.xlim(0, data_sin_columnas['number_of_reviews'].max() * 1.1)  # Limitar el eje x a un 10% más que el máximo\n",
    "plt.ylim(0, data_sin_columnas['price'].max() * 1.1)  # Limitar el eje y a un 10% más para visualizar mejor\n",
    "\n",
    "plt.tight_layout(pad=4.0)  # Ajustar el espacio entre subplots\n",
    "plt.show()"
   ]
  },
  {
   "cell_type": "markdown",
   "metadata": {},
   "source": [
    "#### Ejercicio 6\n",
    "Utilicen el análisis de componentes principales para graficar las variables en dos dimensiones. Comenten los resultados obtenidos (qué porcentaje de la varianza se logra explicar con dos componentes, cómo son los *loadings*, si ven algún patrón en el gráfico)."
   ]
  },
  {
   "cell_type": "code",
   "execution_count": null,
   "metadata": {},
   "outputs": [
    {
     "ename": "",
     "evalue": "",
     "output_type": "error",
     "traceback": [
      "\u001b[1;31mFailed to start the Kernel. \n",
      "\u001b[1;31mEPERM: operation not permitted, scandir '/Users/analiaweibel/Documents/GitHub/CC408--T2-9-/TP2 copy'. \n",
      "\u001b[1;31mView Jupyter <a href='command:jupyter.viewOutput'>log</a> for further details."
     ]
    }
   ],
   "source": [
    "# Resolver acá\n",
    "from sklearn.decomposition import PCA\n",
    "from sklearn.preprocessing import StandardScaler\n",
    "\n",
    "data_sin_columnas = data_sin_columnas.dropna(subset=columnas_cuantitativas)\n",
    "data_normalizada = StandardScaler().fit_transform(data_sin_columnas[columnas_cuantitativas])\n",
    "\n",
    "# Realizar PCA\n",
    "pca = PCA(n_components=2)\n",
    "componentes_principales = pca.fit_transform(data_normalizada)\n",
    "\n",
    "# Crear un DataFrame con los componentes principales\n",
    "df_pca = pd.DataFrame(data=componentes_principales, columns=['Componente 1', 'Componente 2'])\n",
    "\n",
    "# Loadings\n",
    "loadings = pd.DataFrame(pca.components_.T, \n",
    "                        index=columnas_cuantitativas, \n",
    "                        columns=['Componente 1', 'Componente 2'])\n",
    "\n",
    "# Porcentaje de varianza explicada\n",
    "varianza_explicada = pca.explained_variance_ratio_\n",
    "\n",
    "#Graficar\n",
    "plt.figure(figsize=(12, 8))  # Aumentar el tamaño de la figura\n",
    "sns.set_style(\"whitegrid\")  # Establecer el estilo del gráfico\n",
    "sns.scatterplot(x='Componente 1', y='Componente 2', data=df_pca, alpha=0.7, s=100, color='blue')\n",
    "plt.title('Análisis de Componentes Principales (PCA)', fontsize=20)\n",
    "plt.xlabel('Componente Principal 1', fontsize=16)\n",
    "plt.ylabel('Componente Principal 2', fontsize=16)\n",
    "plt.xticks(fontsize=12)\n",
    "plt.yticks(fontsize=12)\n",
    "plt.tight_layout()\n",
    "plt.show()\n",
    "\n",
    "\n",
    "print(\"Varianza explicada:\", varianza_explicada)\n",
    "print(f'Porcentaje de varianza explicada por los dos componentes: {varianza_explicada.sum() * 100:.2f}%')\n",
    "print(loadings)"
   ]
  },
  {
   "cell_type": "markdown",
   "metadata": {},
   "source": [
    "### Parte III: Predicción"
   ]
  },
  {
   "cell_type": "markdown",
   "metadata": {},
   "source": [
    "El objetivo de esta parte del trabajo es intentar predecir los precios de los alojamientos."
   ]
  },
  {
   "cell_type": "markdown",
   "metadata": {},
   "source": [
    "#### Ejercicio 8\n",
    "Partan la base en una base de prueba (test) y una de entrenamiento (train) utilizando el comando <code>train_test_split</code>. La base de entrenamiento debe comprender el 70% de los datos, y la semilla a utilizar (*random state instance*) debe ser 201. Establezca a price como su variable dependiente en la base de entrenamiento (vector y). El resto de las variables ser´an las variables independientes (matriz X). Recuerden agregar la columna de unos (1)."
   ]
  },
  {
   "cell_type": "code",
   "execution_count": null,
   "metadata": {},
   "outputs": [
    {
     "ename": "",
     "evalue": "",
     "output_type": "error",
     "traceback": [
      "\u001b[1;31mFailed to start the Kernel. \n",
      "\u001b[1;31mEPERM: operation not permitted, scandir '/Users/analiaweibel/Documents/GitHub/CC408--T2-9-/TP2 copy'. \n",
      "\u001b[1;31mView Jupyter <a href='command:jupyter.viewOutput'>log</a> for further details."
     ]
    }
   ],
   "source": [
    "# Resolver acá\n",
    "import pandas as pd\n",
    "from sklearn.model_selection import train_test_split\n",
    "\n",
    "y = df_cuantitativo['price'] #definir variables  ##CHEQUEAR SI ES ESTE DF\n",
    "X = df_cuantitativo.drop(columns=['price'])\n",
    "\n",
    "# Se agrega la columna de unos para x\n",
    "X = pd.concat([pd.Series(1, index=X.index, name='Intercepto'), X], axis=1)\n",
    "\n",
    "# Se divide la base de datos en conjunto de entrenamiento y prueba (70 Y 30%)\n",
    "X_train, X_test, y_train, y_test = train_test_split(X, y, test_size=0.3, random_state=201)\n",
    "\n",
    "# Verifica las dimensiones de los conjuntos\n",
    "print(\"Dimensiones de X_train:\", X_train.shape)\n",
    "print(\"Dimensiones de X_test:\", X_test.shape)\n",
    "print(\"Dimensiones de y_train:\", y_train.shape)\n",
    "print(\"Dimensiones de y_test:\", y_test.shape)"
   ]
  },
  {
   "cell_type": "markdown",
   "metadata": {},
   "source": [
    "#### Ejercicio 9\n",
    "Implementen una regresión lineal y comenten los resultados obtenidos."
   ]
  },
  {
   "cell_type": "code",
   "execution_count": null,
   "metadata": {},
   "outputs": [
    {
     "ename": "",
     "evalue": "",
     "output_type": "error",
     "traceback": [
      "\u001b[1;31mFailed to start the Kernel. \n",
      "\u001b[1;31mEPERM: operation not permitted, scandir '/Users/analiaweibel/Documents/GitHub/CC408--T2-9-/TP2 copy'. \n",
      "\u001b[1;31mView Jupyter <a href='command:jupyter.viewOutput'>log</a> for further details."
     ]
    }
   ],
   "source": [
    "#  Resolver acá\n",
    "from sklearn.metrics import mean_squared_error, r2_score\n",
    "modelo = LinearRegression()\n",
    "\n",
    "# Ajustar el modelo a los datos de entrenamiento\n",
    "modelo.fit(X_train, y_train)\n",
    "\n",
    "# Realizar predicciones sobre los datos de prueba\n",
    "y_pred = modelo.predict(X_test)\n",
    "\n",
    "# Evaluar el modelo\n",
    "mse = mean_squared_error(y_test, y_pred)  # Error Cuadrático Medio\n",
    "r2 = r2_score(y_test, y_pred)  # R^2: Coeficiente de determinación\n",
    "\n",
    "# Imprimir los resultados\n",
    "print(\"Coeficientes del modelo:\", modelo.coef_)\n",
    "print(\"Intercepto:\", modelo.intercept_)\n",
    "print(\"Error Cuadrático Medio (MSE):\", mse)\n",
    "print(\"R^2:\", r2)"
   ]
  }
 ],
 "metadata": {
  "anaconda-cloud": {},
  "colab": {
   "name": "TP1 - Parte 1.ipynb",
   "provenance": []
  },
  "kernelspec": {
   "display_name": "Python 3 (ipykernel)",
   "language": "python",
   "name": "python3"
  },
  "language_info": {
   "codemirror_mode": {
    "name": "ipython",
    "version": 3
   },
   "file_extension": ".py",
   "mimetype": "text/x-python",
   "name": "python",
   "nbconvert_exporter": "python",
   "pygments_lexer": "ipython3",
   "version": "3.12.4"
  }
 },
 "nbformat": 4,
 "nbformat_minor": 4
}
