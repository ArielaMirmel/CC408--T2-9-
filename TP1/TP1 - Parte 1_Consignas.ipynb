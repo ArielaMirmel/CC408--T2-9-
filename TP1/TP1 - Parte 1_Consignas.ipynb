{
 "cells": [
  {
   "cell_type": "markdown",
   "metadata": {
    "collapsed": true,
    "id": "Dh8MkXaG-c9Y"
   },
   "source": [
    "# Ciencia de datos (CC408) - Primavera 2024\n",
    "\n",
    "## Trabajo Práctico 1 - Parte 1 "
   ]
  },
  {
   "cell_type": "markdown",
   "metadata": {
    "id": "RhBlm6mZ-c9e"
   },
   "source": [
    "### Reglas de formato y presentación\n",
    "- El trabajo debe estar debidamente documentado comentado (utilizando #) para que tanto los docentes como sus compañeros puedan comprender el código fácilmente.\n",
    "\n",
    "- El mismo debe ser completado en este Jupyter Notebook y entregado como tal, es decir en un archivo .ipynb\n"
   ]
  },
  {
   "cell_type": "markdown",
   "metadata": {
    "id": "ZEjGaa4U-c9g"
   },
   "source": [
    "### Fecha de entrega:\n",
    "Domingo 8 de septiembre a las 23:59hs"
   ]
  },
  {
   "cell_type": "markdown",
   "metadata": {
    "id": "N9TU2y7E-c9h"
   },
   "source": [
    "### Modalidad de entrega\n",
    "- Al finalizar el trabajo práctico deben hacer un último <i>commit</i> en su repositorio de GitHub llamado “Entrega final del tp”. \n",
    "- Asegurense de haber creado una carpeta llamada TP1. Este Jupyter Notebook y el correspondiente al TP1 - Parte 1 deben estar dentro de esa carpeta.\n",
    "- También deben enviar el link de su repositorio -para que pueda ser clonado y corregido- al siguiente email: ispiousas@udesa.edu.ar\n",
    "- La última versión en el repositorio es la que será evaluada. Por lo que es importante que: \n",
    "    - No envien el correo hasta no haber terminado y estar seguros de que han hecho el <i>commit y push</i> a la versión final que quieren entregar. Debido a que se pueden tomar hasta 3 días de extensión a lo largo del curso, no se corregirán sus tareas hasta no recibir el correo.\n",
    "    - No hagan nuevos <i>push</i> despues de haber entregado su versión final. Esto generaría confusión acerca de que versión es la que quieren que se les corrija. "
   ]
  },
  {
   "cell_type": "markdown",
   "metadata": {
    "id": "y1lncitl-c9x"
   },
   "source": [
    "#### Ejercicio 7\n",
    "Ahora definan ustedes una nueva lista, en la que los primeros cuatro elementos sean palabras (strings), el quinto elemento no sea string, y el sexto sea string. Construyan un for loop que corra por la lista y que imprima la palabra y la longitud de la misma. Que el loop contenga una sentencia condicional que imprima un cartel \"Elemento no es un string: < el elemento > | < class del elemento >\" para los casos dónde el elemento evaluado no sea string."
   ]
  },
  {
   "cell_type": "code",
   "execution_count": 17,
   "metadata": {
    "id": "bFOk9Os0-c9x"
   },
   "outputs": [
    {
     "name": "stdout",
     "output_type": "stream",
     "text": [
      "Palabra: 'libro' | Longitud: 5\n",
      "Palabra: 'computadora' | Longitud: 11\n",
      "Palabra: 'tablet' | Longitud: 6\n",
      "Palabra: 'hoja' | Longitud: 4\n",
      "Este elemento NO es un string: 123|  Clase: int\n",
      "Palabra: 'celular' | Longitud: 7\n"
     ]
    }
   ],
   "source": [
    "# Resolver acá\n",
    "# Nueva lista con cuatro elementos palabras, quinto un nuemero, sexto una palabra\n",
    "lista = [ \"libro\", \"computadora\", \"tablet\", \"hoja\", 123, \"celular\" ]\n",
    "\n",
    "# For loop para recorrer la lista y print con palabra y longuitud + sentencia condicional\n",
    "for elemento in lista:\n",
    "    if isinstance (elemento, str):\n",
    "        print(f\"Palabra: '{elemento}' | Longitud: {len(elemento)}\")\n",
    "    else:\n",
    "        print(f\"Este elemento NO es un string: {elemento}|  Clase: {type(elemento).__name__}\")"
   ]
  },
  {
   "cell_type": "markdown",
   "metadata": {},
   "source": [
    "#### Ejercicio 8"
   ]
  },
  {
   "cell_type": "markdown",
   "metadata": {},
   "source": [
    "Construyan una función llamada 'suma' que tome una cantidad variable de parámetros y devuelva el resultado de la suma."
   ]
  },
  {
   "cell_type": "code",
   "execution_count": 19,
   "metadata": {},
   "outputs": [
    {
     "name": "stdout",
     "output_type": "stream",
     "text": [
      "34\n"
     ]
    }
   ],
   "source": [
    "# Resolver acá\n",
    "\n",
    "# Suma de elementos y args para que tome cantidad indefinida de argumentos.\n",
    "def suma (*args):\n",
    "    return sum(args)\n",
    "resultado = suma (10,9,8,7)\n",
    "print(resultado) #devuelve resultado"
   ]
  },
  {
   "cell_type": "markdown",
   "metadata": {
    "id": "PUpxDz72-c9x"
   },
   "source": [
    "#### Ejercicio 9\n",
    "Argentina tiene una representación legislativa proporcional en la cual la cantidad de diputados se debería ajustar según el tamaño de población de cada provincia. Otra característica de la representación legislativa del país es que hay una cantidad mínima de diputados por provincia (5). Esto genera un desbalance en la cantidad de ciudadanos por cada representante en el Congreso entre provincias.\n",
    "\n",
    "A continuación preparamos algunos ejemplos, dividiendo la población de cada provincia (según estimación para el 2022) por la cantidad de representantes en el Congreso para esa misma jurisdicción. También armamos el equivalente para el total país y una lista con los valores provinciales.\n",
    "\n",
    "En este ejercicio les pedimos que construyan un for loop que itere sobre el diccionario definido y compare cada valor provincial contra el valor de proporcionalidad directa (la variable argentina). El loop debe imprimir una leyenda que indique si la provincia está sobrerepresentada, subrepresentada o con representación proporcional. Además, queremos que el mismo loop compare los valores de las provincias sobrerepresentadas y que guarde el valor de la provincia con mayor sobrerepresentación. Luego del loop impriman este valor así podemos ver que haya funcionado.\n",
    "\n",
    "Fuente para población: https://es.wikipedia.org/wiki/Demograf%C3%ADa_de_Argentina\n",
    "\n",
    "Fuente para representantes: https://es.wikipedia.org/wiki/C%C3%A1mara_de_Diputados_de_la_Naci%C3%B3n_Argentina"
   ]
  },
  {
   "cell_type": "code",
   "execution_count": 33,
   "metadata": {
    "id": "hd8Z5AHs-c9y"
   },
   "outputs": [],
   "source": [
    "# Valor de referencia: proporcionalidad\n",
    "argentina = 46044703 / 257\n",
    "\n",
    "# Creamos variables para una selección de jurisdicciones\n",
    "cordoba = 3978984 / 18\n",
    "santa_fe = 3556522 / 19\n",
    "mendoza = 2014533 / 10\n",
    "buenos_aires = 17569053 / 70\n",
    "entre_rios =  1426426 / 9\n",
    "santa_cruz = 333473 / 5\n",
    "formosa = 606041 / 5\n",
    "\n",
    "# Definimos el diccionario para iterar\n",
    "dict_provincias = {\n",
    "    \"Córdoba\": cordoba,\n",
    "    \"Santa Fe\": santa_fe,\n",
    "    \"Mendoza\": mendoza,\n",
    "    \"Buenos Aires\": buenos_aires,\n",
    "    \"Entre Ríos\": entre_rios,\n",
    "    \"Santa Cruz\": santa_cruz,\n",
    "    \"Formosa\": formosa\n",
    "}"
   ]
  },
  {
   "cell_type": "code",
   "execution_count": 40,
   "metadata": {
    "id": "fsEHnxiY-c9y",
    "scrolled": true
   },
   "outputs": [
    {
     "name": "stdout",
     "output_type": "stream",
     "text": [
      "Córdoba esta SUBREPRESENTADA \n",
      "Santa Fe esta SUBREPRESENTADA \n",
      "Mendoza esta SUBREPRESENTADA \n",
      "Buenos Aires esta SUBREPRESENTADA \n",
      "Entre Ríos esta SOBREREPRESENTADA \n",
      "Santa Cruz esta SOBREREPRESENTADA \n",
      "Formosa esta SOBREREPRESENTADA \n",
      " Formosa tiene una REPRESENTACION PROPORCIONAL\n",
      " \n",
      " La provincia con mayor representacion es Formosa\n"
     ]
    }
   ],
   "source": [
    "# Resolver acá\n",
    "\n",
    "argentina = 46044703 / 257\n",
    "\n",
    "# Creamos variables para una selección de jurisdicciones\n",
    "cordoba = 3978984 / 18\n",
    "santa_fe = 3556522 / 19\n",
    "mendoza = 2014533 / 10\n",
    "buenos_aires = 17569053 / 70\n",
    "entre_rios =  1426426 / 9\n",
    "santa_cruz = 333473 / 5\n",
    "formosa = 606041 / 5\n",
    "\n",
    "# Definimos el diccionario para iterar\n",
    "dict_provincias = {\n",
    "    \"Córdoba\": cordoba,\n",
    "    \"Santa Fe\": santa_fe,\n",
    "    \"Mendoza\": mendoza,\n",
    "    \"Buenos Aires\": buenos_aires,\n",
    "    \"Entre Ríos\": entre_rios,\n",
    "    \"Santa Cruz\": santa_cruz,\n",
    "    \"Formosa\": formosa\n",
    "}\n",
    "\n",
    "# For loop que itere sobre el diccionario y compara cada valor provicial contra el valor de proporcionalidad directa\n",
    "# Comparacion de los valores de las provincias sobrerepresentadas y guarde valor de provincia con mayor sobrepresnetacion\n",
    "\n",
    "maximasobrerepresentacion = 0 #para almacenar y encontrar provincia con mayor sobrepresentacion \n",
    "provinciaconmax = \" \" #almacena el nombre de la provincia para cuando finalice el loop\n",
    "\n",
    "#Loop que compara valor de provincia con valor de proporcionalidad \n",
    "for provincia, valor in dict_provincias.items ():\n",
    "    if valor > argentina:\n",
    "        print(f\"{provincia} esta SUBREPRESENTADA \")\n",
    "\n",
    "    elif valor < argentina:\n",
    "         print(f\"{provincia} esta SOBREREPRESENTADA \")   \n",
    "\n",
    "    # Guardar, comparar y print de la provincia con mayor sobrerepresentacion\n",
    "         if argentina - valor > maximasobrerepresentacion:\n",
    "            maximasobrerepresentacion = argentina - valor\n",
    "            provinciaconmax = provincia\n",
    "else:\n",
    "    print(f\" {provincia} tiene una REPRESENTACION PROPORCIONAL\")\n",
    "\n",
    "# Print del valor mayor anterior\n",
    "\n",
    "print(f\" \\n La provincia con mayor representacion es {provincia}\")\n"
   ]
  },
  {
   "cell_type": "markdown",
   "metadata": {
    "id": "GokZe5tV-c9z"
   },
   "source": [
    "#### Ejercicio 10\n",
    "Si buscáramos minimizar la subrepresentación de la provincia de Buenos Aires, ¿cuántos representantes debería tener según el Censo 2022? Usemos el mismo criterio de sub/sobrerepresentacion que en el ejercicio anterior: población sobre cantidad de representantes.\n",
    "\n",
    "Para responder esta pregunta construyan un while loop que incremente de a uno la cantidad de representantes de la Provincia hasta minimizar la subrepresentación. En cada iteración impriman un cartel que diga: \"Se agregó un representante, el total ahora es X\" dónde X es el número de representantes simulado."
   ]
  },
  {
   "cell_type": "code",
   "execution_count": null,
   "metadata": {
    "id": "x9DvuXa_-c9z"
   },
   "outputs": [],
   "source": [
    "# Estos son los valores de la provincia\n",
    "representantes_pba = 70\n",
    "poblacion2010_pba = 17594428\n",
    "\n",
    "\n",
    "# Y el valor de referencia nacional\n",
    "argentina = 46044703 / 257\n"
   ]
  },
  {
   "cell_type": "code",
   "execution_count": 45,
   "metadata": {},
   "outputs": [
    {
     "name": "stdout",
     "output_type": "stream",
     "text": [
      " Se sumo un representante. Total es 71\n",
      " \n",
      " Para minimizar la subrepresentacion BSAS deberia tener 71 representantes\n",
      " Se sumo un representante. Total es 72\n",
      " \n",
      " Para minimizar la subrepresentacion BSAS deberia tener 72 representantes\n",
      " Se sumo un representante. Total es 73\n",
      " \n",
      " Para minimizar la subrepresentacion BSAS deberia tener 73 representantes\n",
      " Se sumo un representante. Total es 74\n",
      " \n",
      " Para minimizar la subrepresentacion BSAS deberia tener 74 representantes\n",
      " Se sumo un representante. Total es 75\n",
      " \n",
      " Para minimizar la subrepresentacion BSAS deberia tener 75 representantes\n",
      " Se sumo un representante. Total es 76\n",
      " \n",
      " Para minimizar la subrepresentacion BSAS deberia tener 76 representantes\n",
      " Se sumo un representante. Total es 77\n",
      " \n",
      " Para minimizar la subrepresentacion BSAS deberia tener 77 representantes\n",
      " Se sumo un representante. Total es 78\n",
      " \n",
      " Para minimizar la subrepresentacion BSAS deberia tener 78 representantes\n",
      " Se sumo un representante. Total es 79\n",
      " \n",
      " Para minimizar la subrepresentacion BSAS deberia tener 79 representantes\n",
      " Se sumo un representante. Total es 80\n",
      " \n",
      " Para minimizar la subrepresentacion BSAS deberia tener 80 representantes\n",
      " Se sumo un representante. Total es 81\n",
      " \n",
      " Para minimizar la subrepresentacion BSAS deberia tener 81 representantes\n",
      " Se sumo un representante. Total es 82\n",
      " \n",
      " Para minimizar la subrepresentacion BSAS deberia tener 82 representantes\n",
      " Se sumo un representante. Total es 83\n",
      " \n",
      " Para minimizar la subrepresentacion BSAS deberia tener 83 representantes\n",
      " Se sumo un representante. Total es 84\n",
      " \n",
      " Para minimizar la subrepresentacion BSAS deberia tener 84 representantes\n",
      " Se sumo un representante. Total es 85\n",
      " \n",
      " Para minimizar la subrepresentacion BSAS deberia tener 85 representantes\n",
      " Se sumo un representante. Total es 86\n",
      " \n",
      " Para minimizar la subrepresentacion BSAS deberia tener 86 representantes\n",
      " Se sumo un representante. Total es 87\n",
      " \n",
      " Para minimizar la subrepresentacion BSAS deberia tener 87 representantes\n",
      " Se sumo un representante. Total es 88\n",
      " \n",
      " Para minimizar la subrepresentacion BSAS deberia tener 88 representantes\n",
      " Se sumo un representante. Total es 89\n",
      " \n",
      " Para minimizar la subrepresentacion BSAS deberia tener 89 representantes\n",
      " Se sumo un representante. Total es 90\n",
      " \n",
      " Para minimizar la subrepresentacion BSAS deberia tener 90 representantes\n",
      " Se sumo un representante. Total es 91\n",
      " \n",
      " Para minimizar la subrepresentacion BSAS deberia tener 91 representantes\n",
      " Se sumo un representante. Total es 92\n",
      " \n",
      " Para minimizar la subrepresentacion BSAS deberia tener 92 representantes\n",
      " Se sumo un representante. Total es 93\n",
      " \n",
      " Para minimizar la subrepresentacion BSAS deberia tener 93 representantes\n",
      " Se sumo un representante. Total es 94\n",
      " \n",
      " Para minimizar la subrepresentacion BSAS deberia tener 94 representantes\n",
      " Se sumo un representante. Total es 95\n",
      " \n",
      " Para minimizar la subrepresentacion BSAS deberia tener 95 representantes\n",
      " Se sumo un representante. Total es 96\n",
      " \n",
      " Para minimizar la subrepresentacion BSAS deberia tener 96 representantes\n",
      " Se sumo un representante. Total es 97\n",
      " \n",
      " Para minimizar la subrepresentacion BSAS deberia tener 97 representantes\n",
      " Se sumo un representante. Total es 98\n",
      " \n",
      " Para minimizar la subrepresentacion BSAS deberia tener 98 representantes\n",
      " Se sumo un representante. Total es 99\n",
      " \n",
      " Para minimizar la subrepresentacion BSAS deberia tener 99 representantes\n"
     ]
    }
   ],
   "source": [
    "# Resolver acá\n",
    "\n",
    "#Censo 2022 (poblacion sobre cantidad de representantes)\n",
    "representantes_pba = 70\n",
    "poblacion2022_pba = 17594428\n",
    "argentina = 46044703 / 257\n",
    "prov_buenosaires = poblacion2022_pba / representantes_pba #nuevo valor de prov de bsas \n",
    "\n",
    "#While loop que incremenete de a uno la cantidad de representantes hasta minimizar la subreprestacion\n",
    "while prov_buenosaires > argentina:\n",
    "    representantes_pba += 1 #suma uno \n",
    "    prov_buenosaires = poblacion2022_pba / representantes_pba\n",
    "    print(f\" Se sumo un representante. Total es {representantes_pba}\")\n",
    "    print(f\" \\n Para minimizar la subrepresentacion BSAS deberia tener {representantes_pba} representantes\")\n"
   ]
  }
 ],
 "metadata": {
  "anaconda-cloud": {},
  "colab": {
   "name": "TP1 - Parte 1.ipynb",
   "provenance": []
  },
  "kernelspec": {
   "display_name": "Python 3 (ipykernel)",
   "language": "python",
   "name": "python3"
  },
  "language_info": {
   "codemirror_mode": {
    "name": "ipython",
    "version": 3
   },
   "file_extension": ".py",
   "mimetype": "text/x-python",
   "name": "python",
   "nbconvert_exporter": "python",
   "pygments_lexer": "ipython3",
   "version": "3.12.4"
  }
 },
 "nbformat": 4,
 "nbformat_minor": 1
}
