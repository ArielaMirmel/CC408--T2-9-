{
 "cells": [
  {
   "cell_type": "code",
   "execution_count": 2,
   "id": "9538409d-8781-445b-ac89-5126c54de2a9",
   "metadata": {},
   "outputs": [
    {
     "name": "stdout",
     "output_type": "stream",
     "text": [
      "Empty DataFrame\n",
      "Columns: [CODUSU, nro_hogar, componente, h15, ano4, trimestre, region, mas_500, aglomerado, pondera, ch03, ch04, ch06, ch07, ch08, ch09, ch10, ch11, ch12, ch13, ch14, ch15, ch15_cod, ch16, ch16_cod, nivel_ed, estado, cat_ocup, cat_inac, pp02c1, pp02c2, pp02c3, pp02c4, pp02c5, pp02c6, pp02c7, pp02c8, pp02e, pp02h, pp02i, pp03c, pp03d, pp3e_tot, pp3f_tot, pp03g, pp03h, pp03i, pp03j, intensi, pp04a, pp04b_cod, pp04b1, pp04b2, pp04b3_mes, pp04b3_ano, pp04b3_dia, pp04c, pp04c99, pp04d_cod, pp04g, pp05b2_mes, pp05b2_ano, pp05b2_dia, pp05c_1, pp05c_2, pp05c_3, pp05e, pp05f, pp05h, pp06a, pp06c, pp06d, pp06e, pp06h, pp07a, pp07c, pp07d, pp07e, pp07f1, pp07f2, pp07f3, pp07f4, pp07f5, pp07g1, pp07g2, pp07g3, pp07g4, pp07g_59, pp07h, pp07i, pp07j, pp07k, pp08d1, pp08d4, pp08f1, pp08f2, pp08j1, pp08j2, pp08j3, pp09a, ...]\n",
      "Index: []\n",
      "\n",
      "[0 rows x 352 columns]\n"
     ]
    }
   ],
   "source": [
    "#Abrimos la carpeta donde se encuentran las bases de datos\n",
    "\n",
    "import pandas as pd\n",
    "import numpy as np\n",
    "import matplotlib.pyplot as plt\n",
    "import seaborn as sns\n",
    "import pyreadstat as py\n",
    "\n",
    "# Cargamos los archivos en dos DataFrames directamente\n",
    "ind_2004 = pd.read_stata(\"Individual_t104.dta\")  # Archivo Stata\n",
    "ind_2024 = pd.read_excel(\"usu_individual_T124.xlsx\")  # Archivo Excel\n",
    "\n",
    "# Filtramos por la columna 'AGLOMERADO'\n",
    "filtro_stata = ind_2004[ind_2004['aglomerado'].isin(['Ciudad Autonoma de Buenos Aires', 'Gran Buenos Aires'])]\n",
    "filtro_excel = ind_2024[ind_2024['AGLOMERADO'].isin(['Ciudad Autonoma de Buenos Aires', 'Gran Buenos Aires'])]\n",
    "\n",
    "# Unimos las dos bases de datos en una sola\n",
    "datos_unidos = pd.concat([filtro_stata, filtro_excel], ignore_index=True)\n",
    "\n",
    "# Mostramos las primeras filas de la base unida\n",
    "print(datos_unidos.head())\n",
    "\n"
   ]
  },
  {
   "cell_type": "code",
   "execution_count": 40,
   "id": "97f201ef-f4b7-46fa-943e-7f7bdf7f7dd1",
   "metadata": {},
   "outputs": [
    {
     "name": "stdout",
     "output_type": "stream",
     "text": [
      "Index(['CODUSU', 'nro_hogar', 'componente', 'h15', 'ano4', 'trimestre',\n",
      "       'region', 'mas_500', 'aglomerado', 'pondera',\n",
      "       ...\n",
      "       'deccfr', 'ideccfr', 'rdeccfr', 'gdeccfr', 'pdeccfr', 'adeccfr',\n",
      "       'pj1_1', 'pj2_1', 'pj3_1', 'idimpp'],\n",
      "      dtype='object', length=176)\n",
      "Index(['CODUSU', 'ANO4', 'TRIMESTRE', 'NRO_HOGAR', 'COMPONENTE', 'H15',\n",
      "       'REGION', 'MAS_500', 'AGLOMERADO', 'PONDERA',\n",
      "       ...\n",
      "       'PDECIFR', 'ADECIFR', 'IPCF', 'DECCFR', 'IDECCFR', 'RDECCFR', 'GDECCFR',\n",
      "       'PDECCFR', 'ADECCFR', 'PONDIH'],\n",
      "      dtype='object', length=177)\n"
     ]
    }
   ],
   "source": [
    "print(ind_2004.columns)  # Ver nombres del archivo Stata\n",
    "print(ind_2024.columns)  # Ver nombres del archivo Excel\n"
   ]
  },
  {
   "cell_type": "code",
   "execution_count": 1,
   "id": "782cdb77-60b0-48cc-b266-dad3ac9045b9",
   "metadata": {},
   "outputs": [
    {
     "ename": "NameError",
     "evalue": "name 'files' is not defined",
     "output_type": "error",
     "traceback": [
      "\u001b[0;31m---------------------------------------------------------------------------\u001b[0m",
      "\u001b[0;31mNameError\u001b[0m                                 Traceback (most recent call last)",
      "Cell \u001b[0;32mIn[1], line 1\u001b[0m\n\u001b[0;32m----> 1\u001b[0m files\u001b[38;5;241m.\u001b[39mupload()\n\u001b[1;32m      2\u001b[0m df_2004 \u001b[38;5;241m=\u001b[39m pd\u001b[38;5;241m.\u001b[39mread_stata(\u001b[38;5;124m\"\u001b[39m\u001b[38;5;124m/content/Individual_t104.dta\u001b[39m\u001b[38;5;124m\"\u001b[39m) \u001b[38;5;66;03m# leemos archivo 2004\u001b[39;00m\n\u001b[1;32m      3\u001b[0m df_2004\u001b[38;5;241m.\u001b[39mdrop(df_2004[df_2004[\u001b[38;5;124m\"\u001b[39m\u001b[38;5;124mregion\u001b[39m\u001b[38;5;124m\"\u001b[39m] \u001b[38;5;241m!=\u001b[39m \u001b[38;5;124m\"\u001b[39m\u001b[38;5;124mGran Buenos Aires\u001b[39m\u001b[38;5;124m\"\u001b[39m]\u001b[38;5;241m.\u001b[39mindex, axis\u001b[38;5;241m=\u001b[39m\u001b[38;5;241m0\u001b[39m)\n",
      "\u001b[0;31mNameError\u001b[0m: name 'files' is not defined"
     ]
    }
   ],
   "source": [
    "files.upload()\n",
    "df_2004 = pd.read_stata(\"/content/Individual_t104.dta\") # leemos archivo 2004\n",
    "df_2004.drop(df_2004[df_2004[\"region\"] != \"Gran Buenos Aires\"].index, axis=0) # eliminamos datos que no corresponden a GCBA"
   ]
  },
  {
   "cell_type": "code",
   "execution_count": null,
   "id": "2682d6ee-b0bc-4f3a-b6ea-b0ab6aa3bb42",
   "metadata": {},
   "outputs": [],
   "source": []
  }
 ],
 "metadata": {
  "kernelspec": {
   "display_name": "Python 3 (ipykernel)",
   "language": "python",
   "name": "python3"
  },
  "language_info": {
   "codemirror_mode": {
    "name": "ipython",
    "version": 3
   },
   "file_extension": ".py",
   "mimetype": "text/x-python",
   "name": "python",
   "nbconvert_exporter": "python",
   "pygments_lexer": "ipython3",
   "version": "3.12.4"
  }
 },
 "nbformat": 4,
 "nbformat_minor": 5
}
